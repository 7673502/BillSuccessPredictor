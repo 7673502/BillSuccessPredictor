{
 "cells": [
  {
   "cell_type": "code",
   "execution_count": null,
   "metadata": {},
   "outputs": [],
   "source": [
    "!pip install pandas\n",
    "!pip install tqdm\n",
    "!pip install tenacity\n",
    "!pip install openai"
   ]
  },
  {
   "cell_type": "markdown",
   "metadata": {},
   "source": [
    "## Gathering the Data\n",
    "We'll be using the [congress.gov API](https://github.com/LibraryOfCongress/api.congress.gov) to request all of the data on bills introduced in the House of Representatives during the 117th Congress. "
   ]
  },
  {
   "cell_type": "code",
   "execution_count": 1,
   "metadata": {},
   "outputs": [],
   "source": [
    "from cdg_client import CDGClient\n",
    "\n",
    "with open(\"congress_api.env\", \"r\") as f:\n",
    "    api_key = f.read()\n",
    "\n",
    "client = CDGClient(api_key)"
   ]
  },
  {
   "cell_type": "code",
   "execution_count": 2,
   "metadata": {},
   "outputs": [
    {
     "name": "stdout",
     "output_type": "stream",
     "text": [
      "Infrastructure Investment and Jobs Act\n"
     ]
    }
   ],
   "source": [
    "# Get information on HR 3684\n",
    "example_bill = client.get(\"bill/117/hr/3684\")\n",
    "print(example_bill[0].get(\"bill\").get(\"title\"))"
   ]
  },
  {
   "cell_type": "code",
   "execution_count": 2,
   "metadata": {},
   "outputs": [
    {
     "name": "stderr",
     "output_type": "stream",
     "text": [
      "C:\\Users\\pramo\\AppData\\Local\\Packages\\PythonSoftwareFoundation.Python.3.11_qbz5n2kfra8p0\\LocalCache\\local-packages\\Python311\\site-packages\\tqdm\\auto.py:21: TqdmWarning: IProgress not found. Please update jupyter and ipywidgets. See https://ipywidgets.readthedocs.io/en/stable/user_install.html\n",
      "  from .autonotebook import tqdm as notebook_tqdm\n"
     ]
    }
   ],
   "source": [
    "import json\n",
    "from tqdm import tqdm\n",
    "from tqdm.contrib.logging import logging_redirect_tqdm\n",
    "from requests.exceptions import HTTPError\n",
    "from tenacity import retry, wait_fixed, retry_if_exception_type, before_sleep_log\n",
    "import logging\n",
    "import sys\n",
    "import requests\n",
    "from time import sleep"
   ]
  },
  {
   "cell_type": "code",
   "execution_count": 3,
   "metadata": {},
   "outputs": [],
   "source": [
    "logging.basicConfig(stream=sys.stderr, level=logging.DEBUG)\n",
    "logger = logging.getLogger(__name__)\n",
    "\n",
    "# suppress debug logs from urllib3\n",
    "logging.getLogger(\"urllib3\").setLevel(logging.WARNING)\n",
    "\n",
    "# custom logging function that logs retries\n",
    "def retry_log(logger, level):\n",
    "    def wrapper(retry_state):\n",
    "        if retry_state.attempt_number > 1:\n",
    "            logger.log(level, f\"Retrying {retry_state.fn.__name__} (attempt {retry_state.attempt_number})\")\n",
    "    return wrapper\n",
    "\n",
    "# wait 5 minutes and try again if an exception is raised (rate limited to 5000 API calls per hour)\n",
    "@retry(wait=wait_fixed(300), retry=retry_if_exception_type(HTTPError), before_sleep=retry_log(logger, logging.DEBUG))\n",
    "def getBill(congress, chamber, number):\n",
    "    return client.get(f\"bill/{congress}/{chamber}/{number}\")\n",
    "\n",
    "@retry(wait=wait_fixed(300), retry=retry_if_exception_type(HTTPError), before_sleep=retry_log(logger, logging.DEBUG))\n",
    "def getBillText(congress, chamber, number):\n",
    "    return client.get(f\"bill/{congress}/{chamber}/{number}/text\")\n",
    "\n",
    "@retry(wait=wait_fixed(300), retry=retry_if_exception_type(HTTPError), before_sleep=retry_log(logger, logging.DEBUG))\n",
    "def getBillSummary(congress, chamber, number):\n",
    "    return client.get(f\"bill/{congress}/{chamber}/{number}/summaries\")"
   ]
  },
  {
   "cell_type": "code",
   "execution_count": 5,
   "metadata": {},
   "outputs": [
    {
     "name": "stderr",
     "output_type": "stream",
     "text": [
      " 30%|██▉       | 2872/9709 [15:00<35:30,  3.21it/s]  "
     ]
    }
   ],
   "source": [
    "NUM_BILLS = 9709# 9709 bills were introduced by the House of the 117th congress\n",
    "\n",
    "start = 1\n",
    "\n",
    "with logging_redirect_tqdm():\n",
    "    for i in tqdm(range(start, NUM_BILLS + 1)):\n",
    "        bill = getBill(117, \"hr\", i)    \n",
    "\n",
    "        with open(f\"BillData/JSONFiles/{str(i).zfill(5)}.json\", \"w\") as outfile: \n",
    "            json.dump(bill[0].get(\"bill\"), outfile)"
   ]
  },
  {
   "cell_type": "code",
   "execution_count": 39,
   "metadata": {},
   "outputs": [
    {
     "name": "stderr",
     "output_type": "stream",
     "text": [
      "  0%|          | 2/9709 [00:02<3:03:45,  1.14s/it]"
     ]
    },
    {
     "name": "stdout",
     "output_type": "stream",
     "text": [
      "Failed to retrieve the content. No text is available for H.R. 2.\n"
     ]
    },
    {
     "name": "stderr",
     "output_type": "stream",
     "text": [
      "  0%|          | 9/9709 [00:16<4:18:02,  1.60s/it]"
     ]
    },
    {
     "name": "stdout",
     "output_type": "stream",
     "text": [
      "Failed to retrieve the content. No text is available for H.R. 9.\n"
     ]
    },
    {
     "name": "stderr",
     "output_type": "stream",
     "text": [
      "  0%|          | 10/9709 [00:16<3:09:02,  1.17s/it]"
     ]
    },
    {
     "name": "stdout",
     "output_type": "stream",
     "text": [
      "Failed to retrieve the content. No text is available for H.R. 10.\n"
     ]
    },
    {
     "name": "stderr",
     "output_type": "stream",
     "text": [
      "  0%|          | 12/9709 [00:17<1:49:07,  1.48it/s]"
     ]
    },
    {
     "name": "stdout",
     "output_type": "stream",
     "text": [
      "Failed to retrieve the content. No text is available for H.R. 11.\n",
      "Failed to retrieve the content. No text is available for H.R. 12.\n"
     ]
    },
    {
     "name": "stderr",
     "output_type": "stream",
     "text": [
      "  0%|          | 13/9709 [00:17<1:26:11,  1.87it/s]"
     ]
    },
    {
     "name": "stdout",
     "output_type": "stream",
     "text": [
      "Failed to retrieve the content. No text is available for H.R. 13.\n"
     ]
    },
    {
     "name": "stderr",
     "output_type": "stream",
     "text": [
      "  0%|          | 14/9709 [00:17<1:10:01,  2.31it/s]"
     ]
    },
    {
     "name": "stdout",
     "output_type": "stream",
     "text": [
      "Failed to retrieve the content. No text is available for H.R. 14.\n"
     ]
    },
    {
     "name": "stderr",
     "output_type": "stream",
     "text": [
      "  0%|          | 16/9709 [00:18<51:32,  3.13it/s]  "
     ]
    },
    {
     "name": "stdout",
     "output_type": "stream",
     "text": [
      "Failed to retrieve the content. No text is available for H.R. 15.\n",
      "Failed to retrieve the content. No text is available for H.R. 16.\n"
     ]
    },
    {
     "name": "stderr",
     "output_type": "stream",
     "text": [
      "  0%|          | 17/9709 [00:18<46:26,  3.48it/s]"
     ]
    },
    {
     "name": "stdout",
     "output_type": "stream",
     "text": [
      "Failed to retrieve the content. No text is available for H.R. 17.\n"
     ]
    },
    {
     "name": "stderr",
     "output_type": "stream",
     "text": [
      "  0%|          | 20/9709 [00:23<2:38:19,  1.02it/s]"
     ]
    },
    {
     "name": "stdout",
     "output_type": "stream",
     "text": [
      "Failed to retrieve the content. No text is available for H.R. 20.\n"
     ]
    },
    {
     "name": "stderr",
     "output_type": "stream",
     "text": [
      "100%|██████████| 9709/9709 [6:39:28<00:00,  2.47s/it]  \n"
     ]
    }
   ],
   "source": [
    "NUM_BILLS = 9709\n",
    "start = 1\n",
    "\n",
    "with logging_redirect_tqdm():\n",
    "    for i in tqdm(range(start, NUM_BILLS + 1)):\n",
    "        sources = getBillText(117, \"hr\", i)\n",
    "\n",
    "        try:\n",
    "            formats = sources[0].get(\"textVersions\")[0].get(\"formats\")\n",
    "        except IndexError:\n",
    "            print(f\"Failed to retrieve the content. No text is available for H.R. {i}.\")\n",
    "            continue\n",
    "\n",
    "        url = next((item[\"url\"] for item in formats if item[\"type\"] == \"Formatted Text\"), None)\n",
    "\n",
    "        response = requests.get(url)\n",
    "        if response.status_code == 200:\n",
    "            with open(f\"BillData/BillText/{str(i).zfill(5)}.htm\", \"w\", encoding=\"utf-8\") as file:\n",
    "                file.write(response.text)\n",
    "        else:\n",
    "            print(f\"Failed to retrieve the content. Status code: {response.status_code}\")\n",
    "        \n",
    "        # wait before sending more https requests\n",
    "        sleep(2)"
   ]
  },
  {
   "cell_type": "code",
   "execution_count": 6,
   "metadata": {},
   "outputs": [
    {
     "name": "stderr",
     "output_type": "stream",
     "text": [
      "100%|██████████| 4766/4766 [2:10:04<00:00,  1.64s/it]  \n"
     ]
    }
   ],
   "source": [
    "NUM_BILLS = 9709\n",
    "start = 4944\n",
    "\n",
    "with logging_redirect_tqdm():\n",
    "    for i in tqdm(range(start, NUM_BILLS + 1)):\n",
    "        response = getBillSummary(117, \"hr\", i)[0].get(\"summaries\")\n",
    "\n",
    "        if len(response) == 0:\n",
    "            logging.debug(f\"Failed to retrieve the content. No summary is available for H.R. {i}\")\n",
    "            continue\n",
    "\n",
    "        summary = response[0].get(\"text\")\n",
    "        \n",
    "        with open(f\"BillData/BillSummaries/{str(i).zfill(5)}.htm\", \"w\", encoding=\"utf-8\") as file:\n",
    "            file.write(summary)\n",
    "        \n",
    "        sleep(1.4)"
   ]
  },
  {
   "cell_type": "code",
   "execution_count": 4,
   "metadata": {},
   "outputs": [
    {
     "data": {
      "text/plain": [
       "{'actionDate': '2021-08-06',\n",
       " 'actionDesc': 'Introduced in House',\n",
       " 'text': \" <p><strong>Helping Kids Cope Act of 2021</strong></p> <p>This bill provides funding through FY2026 to the Health Resources and Services Administration (HRSA) for grants to enhance access to and provider training in pediatric behavioral health care.</p> <p>Specifically, HRSA must award grants to pediatricians, children's hospitals, and other providers to support pediatric behavioral health integration and coordination within communities. Grant-funded activities may include hiring community navigators to assist families in accessing appropriate services, incorporating behavioral health services in pediatric practices, and delivering services via telehealth.</p> <p>In addition, HRSA must award grants to children's hospitals to expand training for providers in the pediatric behavioral health workforce.</p>\",\n",
       " 'updateDate': '2022-02-03T22:40:03Z',\n",
       " 'versionCode': '00'}"
      ]
     },
     "execution_count": 4,
     "metadata": {},
     "output_type": "execute_result"
    }
   ],
   "source": [
    "getBillSummary(117, \"hr\", 4944)[0].get(\"summaries\")[0]"
   ]
  }
 ],
 "metadata": {
  "kernelspec": {
   "display_name": "Python 3",
   "language": "python",
   "name": "python3"
  },
  "language_info": {
   "codemirror_mode": {
    "name": "ipython",
    "version": 3
   },
   "file_extension": ".py",
   "mimetype": "text/x-python",
   "name": "python",
   "nbconvert_exporter": "python",
   "pygments_lexer": "ipython3",
   "version": "3.11.9"
  }
 },
 "nbformat": 4,
 "nbformat_minor": 2
}
