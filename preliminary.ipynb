{
 "cells": [
  {
   "cell_type": "code",
   "execution_count": null,
   "metadata": {},
   "outputs": [],
   "source": [
    "!pip install pandas\n",
    "!pip install tqdm\n",
    "!pip install tenacity"
   ]
  },
  {
   "cell_type": "code",
   "execution_count": 1,
   "metadata": {},
   "outputs": [],
   "source": [
    "from cdg_client import CDGClient\n",
    "\n",
    "with open(\"api_key.txt\", \"r\") as f:\n",
    "    api_key = f.read()\n",
    "\n",
    "client = CDGClient(api_key)"
   ]
  },
  {
   "cell_type": "code",
   "execution_count": 2,
   "metadata": {},
   "outputs": [
    {
     "name": "stdout",
     "output_type": "stream",
     "text": [
      "Infrastructure Investment and Jobs Act\n"
     ]
    }
   ],
   "source": [
    "# Get information on HR 3684\n",
    "example_bill = client.get(\"bill/117/hr/3684\")\n",
    "print(example_bill[0].get(\"bill\").get(\"title\"))"
   ]
  },
  {
   "cell_type": "code",
   "execution_count": 27,
   "metadata": {},
   "outputs": [],
   "source": [
    "import json\n",
    "from tqdm import tqdm\n",
    "from tqdm.contrib.logging import logging_redirect_tqdm\n",
    "from requests.exceptions import HTTPError\n",
    "from tenacity import retry, wait_fixed, retry_if_exception_type, before_sleep_log\n",
    "import logging\n",
    "import sys\n",
    "import requests\n",
    "from time import sleep"
   ]
  },
  {
   "cell_type": "code",
   "execution_count": 30,
   "metadata": {},
   "outputs": [],
   "source": [
    "logging.basicConfig(stream=sys.stderr, level=logging.DEBUG)\n",
    "logger = logging.getLogger(__name__)\n",
    "\n",
    "# suppress debug logs from urllib3\n",
    "logging.getLogger(\"urllib3\").setLevel(logging.WARNING)\n",
    "\n",
    "# custom logging function that logs retries\n",
    "def retry_log(logger, level):\n",
    "    def wrapper(retry_state):\n",
    "        if retry_state.attempt_number > 1:\n",
    "            logger.log(level, f\"Retrying {retry_state.fn.__name__} (attempt {retry_state.attempt_number})\")\n",
    "    return wrapper\n",
    "\n",
    "# wait 5 minutes and try again if an exception is raised (rate limited to 5000 API calls per hour)\n",
    "@retry(wait=wait_fixed(300), retry=retry_if_exception_type(HTTPError), before_sleep=retry_log(logger, logging.DEBUG))\n",
    "def getBill(congress, chamber, number):\n",
    "    return client.get(f\"bill/{congress}/{chamber}/{number}\")\n",
    "\n",
    "@retry(wait=wait_fixed(300), retry=retry_if_exception_type(HTTPError), before_sleep=retry_log(logger, logging.DEBUG))\n",
    "def getBillText(congress, chamber, number):\n",
    "    return client.get(f\"bill/{congress}/{chamber}/{number}/text\")"
   ]
  },
  {
   "cell_type": "code",
   "execution_count": 5,
   "metadata": {},
   "outputs": [
    {
     "name": "stderr",
     "output_type": "stream",
     "text": [
      " 30%|██▉       | 2872/9709 [15:00<35:30,  3.21it/s]  "
     ]
    }
   ],
   "source": [
    "# 9709 bills were introduced by the House of the 117th congress\n",
    "NUM_BILLS = 9709\n",
    "start = 1\n",
    "\n",
    "with logging_redirect_tqdm():\n",
    "    for i in tqdm(range(start, NUM_BILLS + 1)):\n",
    "        bill = getBill(117, \"hr\", i)    \n",
    "\n",
    "        with open(f\"BillData/JSONFiles/{str(i).zfill(5)}.json\", \"w\") as outfile: \n",
    "            json.dump(bill[0].get(\"bill\"), outfile)"
   ]
  },
  {
   "cell_type": "code",
   "execution_count": 39,
   "metadata": {},
   "outputs": [
    {
     "name": "stderr",
     "output_type": "stream",
     "text": [
      "  0%|          | 2/9709 [00:02<3:03:45,  1.14s/it]"
     ]
    },
    {
     "name": "stdout",
     "output_type": "stream",
     "text": [
      "Failed to retrieve the content. No text is available for H.R. 2.\n"
     ]
    },
    {
     "name": "stderr",
     "output_type": "stream",
     "text": [
      "  0%|          | 9/9709 [00:16<4:18:02,  1.60s/it]"
     ]
    },
    {
     "name": "stdout",
     "output_type": "stream",
     "text": [
      "Failed to retrieve the content. No text is available for H.R. 9.\n"
     ]
    },
    {
     "name": "stderr",
     "output_type": "stream",
     "text": [
      "  0%|          | 10/9709 [00:16<3:09:02,  1.17s/it]"
     ]
    },
    {
     "name": "stdout",
     "output_type": "stream",
     "text": [
      "Failed to retrieve the content. No text is available for H.R. 10.\n"
     ]
    },
    {
     "name": "stderr",
     "output_type": "stream",
     "text": [
      "  0%|          | 12/9709 [00:17<1:49:07,  1.48it/s]"
     ]
    },
    {
     "name": "stdout",
     "output_type": "stream",
     "text": [
      "Failed to retrieve the content. No text is available for H.R. 11.\n",
      "Failed to retrieve the content. No text is available for H.R. 12.\n"
     ]
    },
    {
     "name": "stderr",
     "output_type": "stream",
     "text": [
      "  0%|          | 13/9709 [00:17<1:26:11,  1.87it/s]"
     ]
    },
    {
     "name": "stdout",
     "output_type": "stream",
     "text": [
      "Failed to retrieve the content. No text is available for H.R. 13.\n"
     ]
    },
    {
     "name": "stderr",
     "output_type": "stream",
     "text": [
      "  0%|          | 14/9709 [00:17<1:10:01,  2.31it/s]"
     ]
    },
    {
     "name": "stdout",
     "output_type": "stream",
     "text": [
      "Failed to retrieve the content. No text is available for H.R. 14.\n"
     ]
    },
    {
     "name": "stderr",
     "output_type": "stream",
     "text": [
      "  0%|          | 16/9709 [00:18<51:32,  3.13it/s]  "
     ]
    },
    {
     "name": "stdout",
     "output_type": "stream",
     "text": [
      "Failed to retrieve the content. No text is available for H.R. 15.\n",
      "Failed to retrieve the content. No text is available for H.R. 16.\n"
     ]
    },
    {
     "name": "stderr",
     "output_type": "stream",
     "text": [
      "  0%|          | 17/9709 [00:18<46:26,  3.48it/s]"
     ]
    },
    {
     "name": "stdout",
     "output_type": "stream",
     "text": [
      "Failed to retrieve the content. No text is available for H.R. 17.\n"
     ]
    },
    {
     "name": "stderr",
     "output_type": "stream",
     "text": [
      "  0%|          | 20/9709 [00:23<2:38:19,  1.02it/s]"
     ]
    },
    {
     "name": "stdout",
     "output_type": "stream",
     "text": [
      "Failed to retrieve the content. No text is available for H.R. 20.\n"
     ]
    },
    {
     "name": "stderr",
     "output_type": "stream",
     "text": [
      "  6%|▌         | 548/9709 [22:05<6:06:06,  2.40s/it] "
     ]
    }
   ],
   "source": [
    "NUM_BILLS = 9709\n",
    "start = 1\n",
    "\n",
    "with logging_redirect_tqdm():\n",
    "    for i in tqdm(range(start, NUM_BILLS + 1)):\n",
    "        sources = getBillText(117, \"hr\", i)\n",
    "\n",
    "        try:\n",
    "            formats = sources[0].get(\"textVersions\")[0].get(\"formats\")\n",
    "        except IndexError:\n",
    "            print(f\"Failed to retrieve the content. No text is available for H.R. {i}.\")\n",
    "            continue\n",
    "\n",
    "        url = next((item[\"url\"] for item in formats if item[\"type\"] == \"Formatted Text\"), None)\n",
    "\n",
    "        response = requests.get(url)\n",
    "        if response.status_code == 200:\n",
    "            with open(f\"BillData/BillText/{str(i).zfill(5)}.htm\", \"w\", encoding=\"utf-8\") as file:\n",
    "                file.write(response.text)\n",
    "        else:\n",
    "            print(f\"Failed to retrieve the content. Status code: {response.status_code}\")\n",
    "        \n",
    "        # wait before sending more https requests\n",
    "        sleep(2)"
   ]
  },
  {
   "cell_type": "code",
   "execution_count": 34,
   "metadata": {},
   "outputs": [
    {
     "data": {
      "text/plain": [
       "{'pagination': {'count': 0},\n",
       " 'request': {'billNumber': '2',\n",
       "  'billType': 'hr',\n",
       "  'billUrl': 'https://api.congress.gov/v3/bill/117/hr/2?format=json',\n",
       "  'congress': '117',\n",
       "  'contentType': 'application/json',\n",
       "  'format': 'json'},\n",
       " 'textVersions': []}"
      ]
     },
     "execution_count": 34,
     "metadata": {},
     "output_type": "execute_result"
    }
   ],
   "source": [
    "getBillText(117, \"hr\", 2)[0]"
   ]
  }
 ],
 "metadata": {
  "kernelspec": {
   "display_name": "Python 3",
   "language": "python",
   "name": "python3"
  },
  "language_info": {
   "codemirror_mode": {
    "name": "ipython",
    "version": 3
   },
   "file_extension": ".py",
   "mimetype": "text/x-python",
   "name": "python",
   "nbconvert_exporter": "python",
   "pygments_lexer": "ipython3",
   "version": "3.11.9"
  }
 },
 "nbformat": 4,
 "nbformat_minor": 2
}
