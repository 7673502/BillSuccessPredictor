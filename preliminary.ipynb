{
 "cells": [
  {
   "cell_type": "code",
   "execution_count": null,
   "metadata": {},
   "outputs": [],
   "source": [
    "!pip install pandas\n",
    "!pip install tqdm\n",
    "!pip install tenacity\n",
    "!pip install beautifulsoup4\n",
    "!pip install nltk"
   ]
  },
  {
   "cell_type": "markdown",
   "metadata": {},
   "source": [
    "## Gathering the Data\n",
    "We'll be using the [congress.gov API](https://github.com/LibraryOfCongress/api.congress.gov) to request all of the data on bills introduced in the House of Representatives during the 117th Congress. "
   ]
  },
  {
   "cell_type": "code",
   "execution_count": 1,
   "metadata": {},
   "outputs": [],
   "source": [
    "from cdg_client import CDGClient\n",
    "\n",
    "with open(\"congress_api.env\", \"r\") as f:\n",
    "    api_key = f.read()\n",
    "\n",
    "client = CDGClient(api_key)"
   ]
  },
  {
   "cell_type": "code",
   "execution_count": 2,
   "metadata": {},
   "outputs": [
    {
     "name": "stdout",
     "output_type": "stream",
     "text": [
      "Infrastructure Investment and Jobs Act\n"
     ]
    }
   ],
   "source": [
    "# Get information on HR 3684\n",
    "example_bill = client.get(\"bill/117/hr/3684\")\n",
    "print(example_bill[0].get(\"bill\").get(\"title\"))"
   ]
  },
  {
   "cell_type": "code",
   "execution_count": 2,
   "metadata": {},
   "outputs": [
    {
     "name": "stderr",
     "output_type": "stream",
     "text": [
      "C:\\Users\\pramo\\AppData\\Local\\Packages\\PythonSoftwareFoundation.Python.3.11_qbz5n2kfra8p0\\LocalCache\\local-packages\\Python311\\site-packages\\tqdm\\auto.py:21: TqdmWarning: IProgress not found. Please update jupyter and ipywidgets. See https://ipywidgets.readthedocs.io/en/stable/user_install.html\n",
      "  from .autonotebook import tqdm as notebook_tqdm\n"
     ]
    }
   ],
   "source": [
    "import json\n",
    "from tqdm import tqdm\n",
    "from tqdm.contrib.logging import logging_redirect_tqdm\n",
    "from requests.exceptions import HTTPError\n",
    "from tenacity import retry, wait_fixed, retry_if_exception_type, before_sleep_log\n",
    "import logging\n",
    "import sys\n",
    "import requests\n",
    "from time import sleep"
   ]
  },
  {
   "cell_type": "code",
   "execution_count": 3,
   "metadata": {},
   "outputs": [],
   "source": [
    "logging.basicConfig(stream=sys.stderr, level=logging.DEBUG)\n",
    "logger = logging.getLogger(__name__)\n",
    "\n",
    "# suppress debug logs from urllib3\n",
    "logging.getLogger(\"urllib3\").setLevel(logging.WARNING)\n",
    "\n",
    "# custom logging function that logs retries\n",
    "def retry_log(logger, level):\n",
    "    def wrapper(retry_state):\n",
    "        if retry_state.attempt_number > 1:\n",
    "            logger.log(level, f\"Retrying {retry_state.fn.__name__} (attempt {retry_state.attempt_number})\")\n",
    "    return wrapper\n",
    "\n",
    "# wait 5 minutes and try again if an exception is raised (rate limited to 5000 API calls per hour)\n",
    "@retry(wait=wait_fixed(300), retry=retry_if_exception_type(HTTPError), before_sleep=retry_log(logger, logging.DEBUG))\n",
    "def getBill(congress, chamber, number):\n",
    "    return client.get(f\"bill/{congress}/{chamber}/{number}\")\n",
    "\n",
    "@retry(wait=wait_fixed(300), retry=retry_if_exception_type(HTTPError), before_sleep=retry_log(logger, logging.DEBUG))\n",
    "def getBillText(congress, chamber, number):\n",
    "    return client.get(f\"bill/{congress}/{chamber}/{number}/text\")\n",
    "\n",
    "@retry(wait=wait_fixed(300), retry=retry_if_exception_type(HTTPError), before_sleep=retry_log(logger, logging.DEBUG))\n",
    "def getBillSummary(congress, chamber, number):\n",
    "    return client.get(f\"bill/{congress}/{chamber}/{number}/summaries\")"
   ]
  },
  {
   "cell_type": "code",
   "execution_count": 5,
   "metadata": {},
   "outputs": [
    {
     "name": "stderr",
     "output_type": "stream",
     "text": [
      " 30%|██▉       | 2872/9709 [15:00<35:30,  3.21it/s]  "
     ]
    }
   ],
   "source": [
    "NUM_BILLS = 9709# 9709 bills were introduced by the House of the 117th congress\n",
    "\n",
    "start = 1\n",
    "\n",
    "with logging_redirect_tqdm():\n",
    "    for i in tqdm(range(start, NUM_BILLS + 1)):\n",
    "        bill = getBill(117, \"hr\", i)    \n",
    "\n",
    "        with open(f\"BillData/JSONFiles/{str(i).zfill(5)}.json\", \"w\") as outfile: \n",
    "            json.dump(bill[0].get(\"bill\"), outfile)"
   ]
  },
  {
   "cell_type": "code",
   "execution_count": 39,
   "metadata": {},
   "outputs": [
    {
     "name": "stderr",
     "output_type": "stream",
     "text": [
      "  0%|          | 2/9709 [00:02<3:03:45,  1.14s/it]"
     ]
    },
    {
     "name": "stdout",
     "output_type": "stream",
     "text": [
      "Failed to retrieve the content. No text is available for H.R. 2.\n"
     ]
    },
    {
     "name": "stderr",
     "output_type": "stream",
     "text": [
      "  0%|          | 9/9709 [00:16<4:18:02,  1.60s/it]"
     ]
    },
    {
     "name": "stdout",
     "output_type": "stream",
     "text": [
      "Failed to retrieve the content. No text is available for H.R. 9.\n"
     ]
    },
    {
     "name": "stderr",
     "output_type": "stream",
     "text": [
      "  0%|          | 10/9709 [00:16<3:09:02,  1.17s/it]"
     ]
    },
    {
     "name": "stdout",
     "output_type": "stream",
     "text": [
      "Failed to retrieve the content. No text is available for H.R. 10.\n"
     ]
    },
    {
     "name": "stderr",
     "output_type": "stream",
     "text": [
      "  0%|          | 12/9709 [00:17<1:49:07,  1.48it/s]"
     ]
    },
    {
     "name": "stdout",
     "output_type": "stream",
     "text": [
      "Failed to retrieve the content. No text is available for H.R. 11.\n",
      "Failed to retrieve the content. No text is available for H.R. 12.\n"
     ]
    },
    {
     "name": "stderr",
     "output_type": "stream",
     "text": [
      "  0%|          | 13/9709 [00:17<1:26:11,  1.87it/s]"
     ]
    },
    {
     "name": "stdout",
     "output_type": "stream",
     "text": [
      "Failed to retrieve the content. No text is available for H.R. 13.\n"
     ]
    },
    {
     "name": "stderr",
     "output_type": "stream",
     "text": [
      "  0%|          | 14/9709 [00:17<1:10:01,  2.31it/s]"
     ]
    },
    {
     "name": "stdout",
     "output_type": "stream",
     "text": [
      "Failed to retrieve the content. No text is available for H.R. 14.\n"
     ]
    },
    {
     "name": "stderr",
     "output_type": "stream",
     "text": [
      "  0%|          | 16/9709 [00:18<51:32,  3.13it/s]  "
     ]
    },
    {
     "name": "stdout",
     "output_type": "stream",
     "text": [
      "Failed to retrieve the content. No text is available for H.R. 15.\n",
      "Failed to retrieve the content. No text is available for H.R. 16.\n"
     ]
    },
    {
     "name": "stderr",
     "output_type": "stream",
     "text": [
      "  0%|          | 17/9709 [00:18<46:26,  3.48it/s]"
     ]
    },
    {
     "name": "stdout",
     "output_type": "stream",
     "text": [
      "Failed to retrieve the content. No text is available for H.R. 17.\n"
     ]
    },
    {
     "name": "stderr",
     "output_type": "stream",
     "text": [
      "  0%|          | 20/9709 [00:23<2:38:19,  1.02it/s]"
     ]
    },
    {
     "name": "stdout",
     "output_type": "stream",
     "text": [
      "Failed to retrieve the content. No text is available for H.R. 20.\n"
     ]
    },
    {
     "name": "stderr",
     "output_type": "stream",
     "text": [
      "100%|██████████| 9709/9709 [6:39:28<00:00,  2.47s/it]  \n"
     ]
    }
   ],
   "source": [
    "NUM_BILLS = 9709\n",
    "start = 1\n",
    "\n",
    "with logging_redirect_tqdm():\n",
    "    for i in tqdm(range(start, NUM_BILLS + 1)):\n",
    "        sources = getBillText(117, \"hr\", i)\n",
    "\n",
    "        try:\n",
    "            formats = sources[0].get(\"textVersions\")[0].get(\"formats\")\n",
    "        except IndexError:\n",
    "            print(f\"Failed to retrieve the content. No text is available for H.R. {i}.\")\n",
    "            continue\n",
    "\n",
    "        url = next((item[\"url\"] for item in formats if item[\"type\"] == \"Formatted Text\"), None)\n",
    "\n",
    "        response = requests.get(url)\n",
    "        if response.status_code == 200:\n",
    "            with open(f\"BillData/BillText/{str(i).zfill(5)}.htm\", \"w\", encoding=\"utf-8\") as file:\n",
    "                file.write(response.text)\n",
    "        else:\n",
    "            print(f\"Failed to retrieve the content. Status code: {response.status_code}\")\n",
    "        \n",
    "        # wait before sending more https requests\n",
    "        sleep(2)"
   ]
  },
  {
   "cell_type": "code",
   "execution_count": 6,
   "metadata": {},
   "outputs": [
    {
     "name": "stderr",
     "output_type": "stream",
     "text": [
      "100%|██████████| 4766/4766 [2:10:04<00:00,  1.64s/it]  \n"
     ]
    }
   ],
   "source": [
    "NUM_BILLS = 9709\n",
    "start = 4944\n",
    "\n",
    "with logging_redirect_tqdm():\n",
    "    for i in tqdm(range(start, NUM_BILLS + 1)):\n",
    "        response = getBillSummary(117, \"hr\", i)[0].get(\"summaries\")\n",
    "\n",
    "        if len(response) == 0:\n",
    "            logging.debug(f\"Failed to retrieve the content. No summary is available for H.R. {i}\")\n",
    "            continue\n",
    "\n",
    "        summary = response[0].get(\"text\")\n",
    "        \n",
    "        with open(f\"BillData/BillSummaries/{str(i).zfill(5)}.htm\", \"w\", encoding=\"utf-8\") as file:\n",
    "            file.write(summary)\n",
    "        \n",
    "        sleep(1.4)"
   ]
  },
  {
   "cell_type": "code",
   "execution_count": 4,
   "metadata": {},
   "outputs": [
    {
     "data": {
      "text/plain": [
       "{'actionDate': '2021-08-06',\n",
       " 'actionDesc': 'Introduced in House',\n",
       " 'text': \" <p><strong>Helping Kids Cope Act of 2021</strong></p> <p>This bill provides funding through FY2026 to the Health Resources and Services Administration (HRSA) for grants to enhance access to and provider training in pediatric behavioral health care.</p> <p>Specifically, HRSA must award grants to pediatricians, children's hospitals, and other providers to support pediatric behavioral health integration and coordination within communities. Grant-funded activities may include hiring community navigators to assist families in accessing appropriate services, incorporating behavioral health services in pediatric practices, and delivering services via telehealth.</p> <p>In addition, HRSA must award grants to children's hospitals to expand training for providers in the pediatric behavioral health workforce.</p>\",\n",
       " 'updateDate': '2022-02-03T22:40:03Z',\n",
       " 'versionCode': '00'}"
      ]
     },
     "execution_count": 4,
     "metadata": {},
     "output_type": "execute_result"
    }
   ],
   "source": [
    "getBillSummary(117, \"hr\", 4944)[0].get(\"summaries\")[0]"
   ]
  },
  {
   "cell_type": "markdown",
   "metadata": {},
   "source": [
    "## Assembling the dataset"
   ]
  },
  {
   "cell_type": "code",
   "execution_count": 3,
   "metadata": {},
   "outputs": [],
   "source": [
    "import os\n",
    "import pandas as pd\n",
    "import numpy as np\n",
    "from bs4 import BeautifulSoup\n",
    "import nltk\n",
    "from nltk.corpus import stopwords\n",
    "import re\n",
    "from pathlib import Path"
   ]
  },
  {
   "cell_type": "code",
   "execution_count": null,
   "metadata": {},
   "outputs": [],
   "source": [
    "nltk.download('punkt')\n",
    "nltk.download('stopwords')"
   ]
  },
  {
   "cell_type": "code",
   "execution_count": 34,
   "metadata": {},
   "outputs": [
    {
     "name": "stderr",
     "output_type": "stream",
     "text": [
      "--2024-07-21 11:48:26--  https://huggingface.co/stanfordnlp/glove/resolve/main/glove.42B.300d.zip\n",
      "Resolving huggingface.co... 18.160.102.86, 18.160.102.96, 18.160.102.4, ...\n",
      "Connecting to huggingface.co|18.160.102.86|:443... connected.\n",
      "OpenSSL: error:140773E8:SSL routines:SSL23_GET_SERVER_HELLO:reason(1000)\n",
      "Unable to establish SSL connection.\n",
      "tar: Error opening archive: Failed to open 'glove.42B.300d.zip'\n"
     ]
    }
   ],
   "source": [
    "# get pretrained GloVe model - Common Crawl (42B tokens, 1.9M vocab, uncased, 300d vectors, 1.75 GB download)\n",
    "!wget https://huggingface.co/stanfordnlp/glove/resolve/main/glove.42B.300d.zip\n",
    "!tar -xf glove.42B.300d.zip"
   ]
  },
  {
   "cell_type": "code",
   "execution_count": 9,
   "metadata": {},
   "outputs": [
    {
     "data": {
      "text/plain": [
       "'this bill abolishes the agency for toxic substances and disease registry this agency which is part of the department of health and human services hhs investigates and responds to environmental exposures to hazardous substances in communities hhs must transfer authority regarding certain national disease and toxic exposure registries to another appropriate hhs entity'"
      ]
     },
     "execution_count": 9,
     "metadata": {},
     "output_type": "execute_result"
    }
   ],
   "source": [
    "def get_clean_bill_summary(file_path):\n",
    "    with open(file_path, 'r', encoding='utf-8') as file:\n",
    "        soup = BeautifulSoup(file, 'html.parser')\n",
    "\n",
    "        # Remove <b> and <strong> tags (these tags contain the bill title)\n",
    "        for tag in ['b', 'strong']:\n",
    "            for match in soup.find_all(tag):\n",
    "                match.decompose()\n",
    "\n",
    "        # Convert to string and lowercase\n",
    "        summary = \" \".join(soup.stripped_strings)\n",
    "        summary = summary.lower()\n",
    "\n",
    "        # Drop all punctuation\n",
    "        summary = re.sub(r\"[^\\w\\s]\", \"\", summary)\n",
    "        \n",
    "    return summary\n",
    "\n",
    "def get_clean_bill_title(file_path):\n",
    "    with open(file_path, \"r\", encoding=\"utf-8\") as file:\n",
    "        data = json.load(file)\n",
    "\n",
    "        title = data[\"title\"].lower()\n",
    "        title = re.sub(r\"[^\\w\\s]\", \"\", title)\n",
    "\n",
    "    return title\n",
    "\n",
    "def tokenize_text(text):\n",
    "    # tokenize text\n",
    "    tokens = nltk.word_tokenize(text.lower())\n",
    "\n",
    "    # get rid of stop words\n",
    "    stop_words = set(stopwords.words('english'))\n",
    "    tokens = [word for word in tokens if word not in stop_words]\n",
    "\n",
    "    return tokens\n",
    "\n",
    "# example usage\n",
    "get_clean_bill_summary(\"BillData/BillSummaries/00033.htm\")\n"
   ]
  },
  {
   "cell_type": "code",
   "execution_count": 35,
   "metadata": {},
   "outputs": [
    {
     "name": "stderr",
     "output_type": "stream",
     "text": [
      "9698it [00:22, 425.81it/s]\n"
     ]
    },
    {
     "data": {
      "text/html": [
       "<div>\n",
       "<style scoped>\n",
       "    .dataframe tbody tr th:only-of-type {\n",
       "        vertical-align: middle;\n",
       "    }\n",
       "\n",
       "    .dataframe tbody tr th {\n",
       "        vertical-align: top;\n",
       "    }\n",
       "\n",
       "    .dataframe thead th {\n",
       "        text-align: right;\n",
       "    }\n",
       "</style>\n",
       "<table border=\"1\" class=\"dataframe\">\n",
       "  <thead>\n",
       "    <tr style=\"text-align: right;\">\n",
       "      <th></th>\n",
       "      <th>bill_id</th>\n",
       "      <th>title</th>\n",
       "      <th>summary</th>\n",
       "      <th>sponsor_party</th>\n",
       "      <th>sponsor_state</th>\n",
       "      <th>sponsor_district</th>\n",
       "      <th>policy_area</th>\n",
       "      <th>subjects_count</th>\n",
       "      <th>introduced_date</th>\n",
       "      <th>latest_action</th>\n",
       "    </tr>\n",
       "  </thead>\n",
       "  <tbody>\n",
       "    <tr>\n",
       "      <th>0</th>\n",
       "      <td>1</td>\n",
       "      <td>[people, act, 2021]</td>\n",
       "      <td>[bill, addresses, voter, access, election, int...</td>\n",
       "      <td>D</td>\n",
       "      <td>MD</td>\n",
       "      <td>3</td>\n",
       "      <td>Government Operations and Politics</td>\n",
       "      <td>113</td>\n",
       "      <td>2021-01-04</td>\n",
       "      <td>Received in the Senate.</td>\n",
       "    </tr>\n",
       "    <tr>\n",
       "      <th>0</th>\n",
       "      <td>3</td>\n",
       "      <td>[elijah, e, cummings, lower, drug, costs, act]</td>\n",
       "      <td>[bill, establishes, several, programs, require...</td>\n",
       "      <td>D</td>\n",
       "      <td>NJ</td>\n",
       "      <td>6</td>\n",
       "      <td>Health</td>\n",
       "      <td>47</td>\n",
       "      <td>2021-04-22</td>\n",
       "      <td>Referred to the Subcommittee on Oversight and ...</td>\n",
       "    </tr>\n",
       "    <tr>\n",
       "      <th>0</th>\n",
       "      <td>4</td>\n",
       "      <td>[john, r, lewis, voting, rights, advancement, ...</td>\n",
       "      <td>[bill, establishes, new, criteria, determining...</td>\n",
       "      <td>D</td>\n",
       "      <td>AL</td>\n",
       "      <td>7</td>\n",
       "      <td>Government Operations and Politics</td>\n",
       "      <td>10</td>\n",
       "      <td>2021-08-17</td>\n",
       "      <td>Received in the Senate.</td>\n",
       "    </tr>\n",
       "    <tr>\n",
       "      <th>0</th>\n",
       "      <td>5</td>\n",
       "      <td>[equality, act]</td>\n",
       "      <td>[bill, prohibits, discrimination, based, sex, ...</td>\n",
       "      <td>D</td>\n",
       "      <td>RI</td>\n",
       "      <td>1</td>\n",
       "      <td>Civil Rights and Liberties, Minority Issues</td>\n",
       "      <td>15</td>\n",
       "      <td>2021-02-18</td>\n",
       "      <td>Committee on the Judiciary. Hearings held.</td>\n",
       "    </tr>\n",
       "    <tr>\n",
       "      <th>0</th>\n",
       "      <td>6</td>\n",
       "      <td>[american, dream, promise, act, 2021]</td>\n",
       "      <td>[bill, provides, certain, aliens, path, receiv...</td>\n",
       "      <td>D</td>\n",
       "      <td>CA</td>\n",
       "      <td>40</td>\n",
       "      <td>Immigration</td>\n",
       "      <td>39</td>\n",
       "      <td>2021-03-03</td>\n",
       "      <td>Committee on the Judiciary. Hearings held.</td>\n",
       "    </tr>\n",
       "    <tr>\n",
       "      <th>...</th>\n",
       "      <td>...</td>\n",
       "      <td>...</td>\n",
       "      <td>...</td>\n",
       "      <td>...</td>\n",
       "      <td>...</td>\n",
       "      <td>...</td>\n",
       "      <td>...</td>\n",
       "      <td>...</td>\n",
       "      <td>...</td>\n",
       "      <td>...</td>\n",
       "    </tr>\n",
       "    <tr>\n",
       "      <th>0</th>\n",
       "      <td>9705</td>\n",
       "      <td>[promoting, diverse, investment, advisers, act]</td>\n",
       "      <td>[bill, requires, federal, reserve, board, set,...</td>\n",
       "      <td>D</td>\n",
       "      <td>OH</td>\n",
       "      <td>3</td>\n",
       "      <td>Finance and Financial Sector</td>\n",
       "      <td>1</td>\n",
       "      <td>2023-01-03</td>\n",
       "      <td>Referred to the House Committee on Financial S...</td>\n",
       "    </tr>\n",
       "    <tr>\n",
       "      <th>0</th>\n",
       "      <td>9706</td>\n",
       "      <td>[ensuring, diverse, leadership, act, 2022]</td>\n",
       "      <td>[bill, requires, appointing, president, federa...</td>\n",
       "      <td>D</td>\n",
       "      <td>OH</td>\n",
       "      <td>3</td>\n",
       "      <td>Finance and Financial Sector</td>\n",
       "      <td>1</td>\n",
       "      <td>2023-01-03</td>\n",
       "      <td>Referred to the House Committee on Financial S...</td>\n",
       "    </tr>\n",
       "    <tr>\n",
       "      <th>0</th>\n",
       "      <td>9707</td>\n",
       "      <td>[mom, act]</td>\n",
       "      <td>[bill, provides, block, grants, states, provid...</td>\n",
       "      <td>R</td>\n",
       "      <td>TX</td>\n",
       "      <td>1</td>\n",
       "      <td>Families</td>\n",
       "      <td>1</td>\n",
       "      <td>2023-01-03</td>\n",
       "      <td>Referred to the House Committee on Education a...</td>\n",
       "    </tr>\n",
       "    <tr>\n",
       "      <th>0</th>\n",
       "      <td>9708</td>\n",
       "      <td>[fixing, administrations, unethical, corrupt, ...</td>\n",
       "      <td>[bill, prohibits, specified, federal, official...</td>\n",
       "      <td>R</td>\n",
       "      <td>TX</td>\n",
       "      <td>1</td>\n",
       "      <td>Crime and Law Enforcement</td>\n",
       "      <td>1</td>\n",
       "      <td>2023-01-03</td>\n",
       "      <td>Referred to the House Committee on the Judiciary.</td>\n",
       "    </tr>\n",
       "    <tr>\n",
       "      <th>0</th>\n",
       "      <td>9709</td>\n",
       "      <td>[protecting, safety, air, traffic, control, av...</td>\n",
       "      <td>[bill, directs, federal, aviation, administrat...</td>\n",
       "      <td>R</td>\n",
       "      <td>LA</td>\n",
       "      <td>6</td>\n",
       "      <td>Transportation and Public Works</td>\n",
       "      <td>1</td>\n",
       "      <td>2023-01-03</td>\n",
       "      <td>Referred to the House Committee on Transportat...</td>\n",
       "    </tr>\n",
       "  </tbody>\n",
       "</table>\n",
       "<p>9698 rows × 10 columns</p>\n",
       "</div>"
      ],
      "text/plain": [
       "   bill_id                                              title  \\\n",
       "0        1                                [people, act, 2021]   \n",
       "0        3     [elijah, e, cummings, lower, drug, costs, act]   \n",
       "0        4  [john, r, lewis, voting, rights, advancement, ...   \n",
       "0        5                                    [equality, act]   \n",
       "0        6              [american, dream, promise, act, 2021]   \n",
       "..     ...                                                ...   \n",
       "0     9705    [promoting, diverse, investment, advisers, act]   \n",
       "0     9706         [ensuring, diverse, leadership, act, 2022]   \n",
       "0     9707                                         [mom, act]   \n",
       "0     9708  [fixing, administrations, unethical, corrupt, ...   \n",
       "0     9709  [protecting, safety, air, traffic, control, av...   \n",
       "\n",
       "                                              summary sponsor_party  \\\n",
       "0   [bill, addresses, voter, access, election, int...             D   \n",
       "0   [bill, establishes, several, programs, require...             D   \n",
       "0   [bill, establishes, new, criteria, determining...             D   \n",
       "0   [bill, prohibits, discrimination, based, sex, ...             D   \n",
       "0   [bill, provides, certain, aliens, path, receiv...             D   \n",
       "..                                                ...           ...   \n",
       "0   [bill, requires, federal, reserve, board, set,...             D   \n",
       "0   [bill, requires, appointing, president, federa...             D   \n",
       "0   [bill, provides, block, grants, states, provid...             R   \n",
       "0   [bill, prohibits, specified, federal, official...             R   \n",
       "0   [bill, directs, federal, aviation, administrat...             R   \n",
       "\n",
       "   sponsor_state sponsor_district  \\\n",
       "0             MD                3   \n",
       "0             NJ                6   \n",
       "0             AL                7   \n",
       "0             RI                1   \n",
       "0             CA               40   \n",
       "..           ...              ...   \n",
       "0             OH                3   \n",
       "0             OH                3   \n",
       "0             TX                1   \n",
       "0             TX                1   \n",
       "0             LA                6   \n",
       "\n",
       "                                    policy_area subjects_count  \\\n",
       "0            Government Operations and Politics            113   \n",
       "0                                        Health             47   \n",
       "0            Government Operations and Politics             10   \n",
       "0   Civil Rights and Liberties, Minority Issues             15   \n",
       "0                                   Immigration             39   \n",
       "..                                          ...            ...   \n",
       "0                  Finance and Financial Sector              1   \n",
       "0                  Finance and Financial Sector              1   \n",
       "0                                      Families              1   \n",
       "0                     Crime and Law Enforcement              1   \n",
       "0               Transportation and Public Works              1   \n",
       "\n",
       "   introduced_date                                      latest_action  \n",
       "0       2021-01-04                            Received in the Senate.  \n",
       "0       2021-04-22  Referred to the Subcommittee on Oversight and ...  \n",
       "0       2021-08-17                            Received in the Senate.  \n",
       "0       2021-02-18         Committee on the Judiciary. Hearings held.  \n",
       "0       2021-03-03         Committee on the Judiciary. Hearings held.  \n",
       "..             ...                                                ...  \n",
       "0       2023-01-03  Referred to the House Committee on Financial S...  \n",
       "0       2023-01-03  Referred to the House Committee on Financial S...  \n",
       "0       2023-01-03  Referred to the House Committee on Education a...  \n",
       "0       2023-01-03  Referred to the House Committee on the Judiciary.  \n",
       "0       2023-01-03  Referred to the House Committee on Transportat...  \n",
       "\n",
       "[9698 rows x 10 columns]"
      ]
     },
     "execution_count": 35,
     "metadata": {},
     "output_type": "execute_result"
    }
   ],
   "source": [
    "features = [\"bill_id\", \n",
    "            \"title\", \n",
    "            \"summary\", \n",
    "            \"sponsor_party\", \n",
    "            \"sponsor_state\",\n",
    "            \"sponsor_district\",\n",
    "            \"policy_area\", \n",
    "            \"subjects_count\", \n",
    "            \"introduced_date\",\n",
    "            \"latest_action\"]\n",
    "\n",
    "dataset = pd.DataFrame(columns = features)\n",
    "\n",
    "# iterate through htm files in the BillSummaries directory\n",
    "for file in tqdm(Path(\"BillData/BillSummaries\").glob('*.htm')):\n",
    "    bill_number = str(file).split(\"\\\\\")[-1][:-4]\n",
    "    \n",
    "    summary = get_clean_bill_summary(file)\n",
    "    summary = tokenize_text(summary)\n",
    "\n",
    "    with open(f\"BillData/JSONFiles/{bill_number}.json\", \"r\", encoding=\"utf-8\") as file:\n",
    "        data = json.load(file)\n",
    "        \n",
    "        title = data[\"title\"].lower()\n",
    "        title = re.sub(r\"[^\\w\\s]\", \"\", title)\n",
    "        title = tokenize_text(title)\n",
    "\n",
    "        sponsor_party = data[\"sponsors\"][0][\"party\"]\n",
    "        sponsor_state = data[\"sponsors\"][0][\"state\"]\n",
    "        \n",
    "        introduced_date = data[\"introducedDate\"]\n",
    "        latest_action = data[\"latestAction\"][\"text\"]\n",
    "\n",
    "        # 5 bills are missing subject count\n",
    "        try:\n",
    "            subjects_count = data[\"subjects\"][\"count\"]\n",
    "        except Exception:\n",
    "            subjects_count = 1\n",
    "\n",
    "        # 29 bills are missing the policyArea attribute\n",
    "        try:\n",
    "            policy_area = data[\"policyArea\"][\"name\"]\n",
    "        except KeyError:\n",
    "            policy_area = \"FLAGGED\"\n",
    "\n",
    "        # some regions only have one district\n",
    "        # if the bill is missing a sponsor district, it's likely the bill is from such a region\n",
    "        try:\n",
    "            sponsor_district = data[\"sponsors\"][0][\"district\"]\n",
    "        except KeyError:\n",
    "            sponsor_district = 1\n",
    "        \n",
    "    \n",
    "    # add the row to the dataset\n",
    "    new_row = pd.DataFrame([[int(bill_number),\n",
    "                                 title,\n",
    "                                 summary,\n",
    "                                 sponsor_party,\n",
    "                                 sponsor_state,\n",
    "                                 sponsor_district,\n",
    "                                 policy_area,\n",
    "                                 subjects_count,\n",
    "                                 introduced_date,\n",
    "                                 latest_action]], columns = features)\n",
    "    \n",
    "    dataset = pd.concat([dataset, new_row])\n",
    "\n",
    "dataset"
   ]
  },
  {
   "cell_type": "code",
   "execution_count": 23,
   "metadata": {},
   "outputs": [
    {
     "name": "stderr",
     "output_type": "stream",
     "text": [
      "9698it [00:50, 192.01it/s]"
     ]
    },
    {
     "name": "stdout",
     "output_type": "stream",
     "text": [
      "29/9698=0.002990307279851516\n"
     ]
    },
    {
     "name": "stderr",
     "output_type": "stream",
     "text": [
      "\n"
     ]
    }
   ],
   "source": [
    "# testing to see how many bills are missing the \"policyArea\" attribute\n",
    "\n",
    "total = 0\n",
    "count = 0\n",
    "\n",
    "for file in tqdm(Path(\"BillData/BillSummaries\").glob('*.htm')):\n",
    "    bill_number = str(file).split(\"\\\\\")[-1][:-4]\n",
    "\n",
    "    with open(f\"BillData/JSONFiles/{bill_number}.json\", \"r\", encoding=\"utf-8\") as file:\n",
    "        data = json.load(file)\n",
    "\n",
    "        try:\n",
    "            policy_area = data[\"policyArea\"][\"name\"]\n",
    "        except KeyError:\n",
    "            count += 1\n",
    "        \n",
    "        total +=1\n",
    "\n",
    "print(f\"{count}/{total}={count/total}\")\n",
    "            "
   ]
  }
 ],
 "metadata": {
  "kernelspec": {
   "display_name": "Python 3",
   "language": "python",
   "name": "python3"
  },
  "language_info": {
   "codemirror_mode": {
    "name": "ipython",
    "version": 3
   },
   "file_extension": ".py",
   "mimetype": "text/x-python",
   "name": "python",
   "nbconvert_exporter": "python",
   "pygments_lexer": "ipython3",
   "version": "3.11.9"
  }
 },
 "nbformat": 4,
 "nbformat_minor": 2
}
