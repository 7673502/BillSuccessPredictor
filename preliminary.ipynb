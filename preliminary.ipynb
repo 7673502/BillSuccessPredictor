{
 "cells": [
  {
   "cell_type": "code",
   "execution_count": null,
   "metadata": {},
   "outputs": [],
   "source": [
    "!pip install pandas\n",
    "!pip install tqdm\n",
    "!pip install tenacity\n",
    "!pip install beautifulsoup4\n",
    "!pip install nltk"
   ]
  },
  {
   "cell_type": "markdown",
   "metadata": {},
   "source": [
    "## Gathering the Data\n",
    "We'll be using the [congress.gov API](https://github.com/LibraryOfCongress/api.congress.gov) to request all of the data on bills introduced in the House of Representatives during the 117th Congress. "
   ]
  },
  {
   "cell_type": "code",
   "execution_count": 1,
   "metadata": {},
   "outputs": [],
   "source": [
    "from cdg_client import CDGClient\n",
    "\n",
    "with open(\"congress_api.env\", \"r\") as f:\n",
    "    api_key = f.read()\n",
    "\n",
    "client = CDGClient(api_key)"
   ]
  },
  {
   "cell_type": "code",
   "execution_count": 2,
   "metadata": {},
   "outputs": [
    {
     "name": "stdout",
     "output_type": "stream",
     "text": [
      "Infrastructure Investment and Jobs Act\n"
     ]
    }
   ],
   "source": [
    "# Get information on HR 3684\n",
    "example_bill = client.get(\"bill/117/hr/3684\")\n",
    "print(example_bill[0].get(\"bill\").get(\"title\"))"
   ]
  },
  {
   "cell_type": "code",
   "execution_count": 40,
   "metadata": {},
   "outputs": [
    {
     "name": "stderr",
     "output_type": "stream",
     "text": [
      "C:\\Users\\pramo\\AppData\\Local\\Packages\\PythonSoftwareFoundation.Python.3.11_qbz5n2kfra8p0\\LocalCache\\local-packages\\Python311\\site-packages\\tqdm\\auto.py:21: TqdmWarning: IProgress not found. Please update jupyter and ipywidgets. See https://ipywidgets.readthedocs.io/en/stable/user_install.html\n",
      "  from .autonotebook import tqdm as notebook_tqdm\n"
     ]
    }
   ],
   "source": [
    "import json\n",
    "from tqdm import tqdm\n",
    "from tqdm.contrib.logging import logging_redirect_tqdm\n",
    "from requests.exceptions import HTTPError\n",
    "from tenacity import retry, wait_fixed, retry_if_exception_type, before_sleep_log\n",
    "import logging\n",
    "import sys\n",
    "import requests\n",
    "from time import sleep"
   ]
  },
  {
   "cell_type": "code",
   "execution_count": 3,
   "metadata": {},
   "outputs": [],
   "source": [
    "logging.basicConfig(stream=sys.stderr, level=logging.DEBUG)\n",
    "logger = logging.getLogger(__name__)\n",
    "\n",
    "# suppress debug logs from urllib3\n",
    "logging.getLogger(\"urllib3\").setLevel(logging.WARNING)\n",
    "\n",
    "# custom logging function that logs retries\n",
    "def retry_log(logger, level):\n",
    "    def wrapper(retry_state):\n",
    "        if retry_state.attempt_number > 1:\n",
    "            logger.log(level, f\"Retrying {retry_state.fn.__name__} (attempt {retry_state.attempt_number})\")\n",
    "    return wrapper\n",
    "\n",
    "# wait 5 minutes and try again if an exception is raised (rate limited to 5000 API calls per hour)\n",
    "@retry(wait=wait_fixed(300), retry=retry_if_exception_type(HTTPError), before_sleep=retry_log(logger, logging.DEBUG))\n",
    "def getBill(congress, chamber, number):\n",
    "    return client.get(f\"bill/{congress}/{chamber}/{number}\")\n",
    "\n",
    "@retry(wait=wait_fixed(300), retry=retry_if_exception_type(HTTPError), before_sleep=retry_log(logger, logging.DEBUG))\n",
    "def getBillText(congress, chamber, number):\n",
    "    return client.get(f\"bill/{congress}/{chamber}/{number}/text\")\n",
    "\n",
    "@retry(wait=wait_fixed(300), retry=retry_if_exception_type(HTTPError), before_sleep=retry_log(logger, logging.DEBUG))\n",
    "def getBillSummary(congress, chamber, number):\n",
    "    return client.get(f\"bill/{congress}/{chamber}/{number}/summaries\")"
   ]
  },
  {
   "cell_type": "code",
   "execution_count": 5,
   "metadata": {},
   "outputs": [
    {
     "name": "stderr",
     "output_type": "stream",
     "text": [
      " 30%|██▉       | 2872/9709 [15:00<35:30,  3.21it/s]  "
     ]
    }
   ],
   "source": [
    "NUM_BILLS = 9709# 9709 bills were introduced by the House of the 117th congress\n",
    "\n",
    "start = 1\n",
    "\n",
    "with logging_redirect_tqdm():\n",
    "    for i in tqdm(range(start, NUM_BILLS + 1)):\n",
    "        bill = getBill(117, \"hr\", i)    \n",
    "\n",
    "        with open(f\"BillData/JSONFiles/{str(i).zfill(5)}.json\", \"w\") as outfile: \n",
    "            json.dump(bill[0].get(\"bill\"), outfile)"
   ]
  },
  {
   "cell_type": "code",
   "execution_count": 39,
   "metadata": {},
   "outputs": [
    {
     "name": "stderr",
     "output_type": "stream",
     "text": [
      "  0%|          | 2/9709 [00:02<3:03:45,  1.14s/it]"
     ]
    },
    {
     "name": "stdout",
     "output_type": "stream",
     "text": [
      "Failed to retrieve the content. No text is available for H.R. 2.\n"
     ]
    },
    {
     "name": "stderr",
     "output_type": "stream",
     "text": [
      "  0%|          | 9/9709 [00:16<4:18:02,  1.60s/it]"
     ]
    },
    {
     "name": "stdout",
     "output_type": "stream",
     "text": [
      "Failed to retrieve the content. No text is available for H.R. 9.\n"
     ]
    },
    {
     "name": "stderr",
     "output_type": "stream",
     "text": [
      "  0%|          | 10/9709 [00:16<3:09:02,  1.17s/it]"
     ]
    },
    {
     "name": "stdout",
     "output_type": "stream",
     "text": [
      "Failed to retrieve the content. No text is available for H.R. 10.\n"
     ]
    },
    {
     "name": "stderr",
     "output_type": "stream",
     "text": [
      "  0%|          | 12/9709 [00:17<1:49:07,  1.48it/s]"
     ]
    },
    {
     "name": "stdout",
     "output_type": "stream",
     "text": [
      "Failed to retrieve the content. No text is available for H.R. 11.\n",
      "Failed to retrieve the content. No text is available for H.R. 12.\n"
     ]
    },
    {
     "name": "stderr",
     "output_type": "stream",
     "text": [
      "  0%|          | 13/9709 [00:17<1:26:11,  1.87it/s]"
     ]
    },
    {
     "name": "stdout",
     "output_type": "stream",
     "text": [
      "Failed to retrieve the content. No text is available for H.R. 13.\n"
     ]
    },
    {
     "name": "stderr",
     "output_type": "stream",
     "text": [
      "  0%|          | 14/9709 [00:17<1:10:01,  2.31it/s]"
     ]
    },
    {
     "name": "stdout",
     "output_type": "stream",
     "text": [
      "Failed to retrieve the content. No text is available for H.R. 14.\n"
     ]
    },
    {
     "name": "stderr",
     "output_type": "stream",
     "text": [
      "  0%|          | 16/9709 [00:18<51:32,  3.13it/s]  "
     ]
    },
    {
     "name": "stdout",
     "output_type": "stream",
     "text": [
      "Failed to retrieve the content. No text is available for H.R. 15.\n",
      "Failed to retrieve the content. No text is available for H.R. 16.\n"
     ]
    },
    {
     "name": "stderr",
     "output_type": "stream",
     "text": [
      "  0%|          | 17/9709 [00:18<46:26,  3.48it/s]"
     ]
    },
    {
     "name": "stdout",
     "output_type": "stream",
     "text": [
      "Failed to retrieve the content. No text is available for H.R. 17.\n"
     ]
    },
    {
     "name": "stderr",
     "output_type": "stream",
     "text": [
      "  0%|          | 20/9709 [00:23<2:38:19,  1.02it/s]"
     ]
    },
    {
     "name": "stdout",
     "output_type": "stream",
     "text": [
      "Failed to retrieve the content. No text is available for H.R. 20.\n"
     ]
    },
    {
     "name": "stderr",
     "output_type": "stream",
     "text": [
      "100%|██████████| 9709/9709 [6:39:28<00:00,  2.47s/it]  \n"
     ]
    }
   ],
   "source": [
    "NUM_BILLS = 9709\n",
    "start = 1\n",
    "\n",
    "with logging_redirect_tqdm():\n",
    "    for i in tqdm(range(start, NUM_BILLS + 1)):\n",
    "        sources = getBillText(117, \"hr\", i)\n",
    "\n",
    "        try:\n",
    "            formats = sources[0].get(\"textVersions\")[0].get(\"formats\")\n",
    "        except IndexError:\n",
    "            print(f\"Failed to retrieve the content. No text is available for H.R. {i}.\")\n",
    "            continue\n",
    "\n",
    "        url = next((item[\"url\"] for item in formats if item[\"type\"] == \"Formatted Text\"), None)\n",
    "\n",
    "        response = requests.get(url)\n",
    "        if response.status_code == 200:\n",
    "            with open(f\"BillData/BillText/{str(i).zfill(5)}.htm\", \"w\", encoding=\"utf-8\") as file:\n",
    "                file.write(response.text)\n",
    "        else:\n",
    "            print(f\"Failed to retrieve the content. Status code: {response.status_code}\")\n",
    "        \n",
    "        # wait before sending more https requests\n",
    "        sleep(2)"
   ]
  },
  {
   "cell_type": "code",
   "execution_count": 6,
   "metadata": {},
   "outputs": [
    {
     "name": "stderr",
     "output_type": "stream",
     "text": [
      "100%|██████████| 4766/4766 [2:10:04<00:00,  1.64s/it]  \n"
     ]
    }
   ],
   "source": [
    "NUM_BILLS = 9709\n",
    "start = 4944\n",
    "\n",
    "with logging_redirect_tqdm():\n",
    "    for i in tqdm(range(start, NUM_BILLS + 1)):\n",
    "        response = getBillSummary(117, \"hr\", i)[0].get(\"summaries\")\n",
    "\n",
    "        if len(response) == 0:\n",
    "            logging.debug(f\"Failed to retrieve the content. No summary is available for H.R. {i}\")\n",
    "            continue\n",
    "\n",
    "        summary = response[0].get(\"text\")\n",
    "        \n",
    "        with open(f\"BillData/BillSummaries/{str(i).zfill(5)}.htm\", \"w\", encoding=\"utf-8\") as file:\n",
    "            file.write(summary)\n",
    "        \n",
    "        sleep(1.4)"
   ]
  },
  {
   "cell_type": "code",
   "execution_count": 4,
   "metadata": {},
   "outputs": [
    {
     "data": {
      "text/plain": [
       "{'actionDate': '2021-08-06',\n",
       " 'actionDesc': 'Introduced in House',\n",
       " 'text': \" <p><strong>Helping Kids Cope Act of 2021</strong></p> <p>This bill provides funding through FY2026 to the Health Resources and Services Administration (HRSA) for grants to enhance access to and provider training in pediatric behavioral health care.</p> <p>Specifically, HRSA must award grants to pediatricians, children's hospitals, and other providers to support pediatric behavioral health integration and coordination within communities. Grant-funded activities may include hiring community navigators to assist families in accessing appropriate services, incorporating behavioral health services in pediatric practices, and delivering services via telehealth.</p> <p>In addition, HRSA must award grants to children's hospitals to expand training for providers in the pediatric behavioral health workforce.</p>\",\n",
       " 'updateDate': '2022-02-03T22:40:03Z',\n",
       " 'versionCode': '00'}"
      ]
     },
     "execution_count": 4,
     "metadata": {},
     "output_type": "execute_result"
    }
   ],
   "source": [
    "getBillSummary(117, \"hr\", 4944)[0].get(\"summaries\")[0]"
   ]
  },
  {
   "cell_type": "markdown",
   "metadata": {},
   "source": [
    "## Assembling the dataset"
   ]
  },
  {
   "cell_type": "code",
   "execution_count": 106,
   "metadata": {},
   "outputs": [],
   "source": [
    "import os\n",
    "import pandas as pd\n",
    "import numpy as np\n",
    "from bs4 import BeautifulSoup\n",
    "import nltk\n",
    "from nltk.corpus import stopwords\n",
    "import re\n",
    "from pathlib import Path"
   ]
  },
  {
   "cell_type": "code",
   "execution_count": 17,
   "metadata": {},
   "outputs": [
    {
     "data": {
      "text/plain": [
       "'This bill eliminates the exemption of waste associated with the exploration, development, or production of crude oil, natural gas, or geothermal energy from regulations governing the disposal of hazardous waste. Within a year of enactment, the Environmental Protection Agency (EPA) must determine whether such waste meets the criteria for hazardous waste, promulgate regulations concerning the disposal of such waste if the EPA determines it is hazardous, and revise regulations applicable to solid waste management and disposal facilities (e.g., landfills) to address such waste that is nonhazardous.'"
      ]
     },
     "execution_count": 17,
     "metadata": {},
     "output_type": "execute_result"
    }
   ],
   "source": [
    "def clean_htm(file_path):\n",
    "    with open(file_path, 'r', encoding='utf-8') as file:\n",
    "        soup = BeautifulSoup(file)\n",
    "\n",
    "        # remove the title\n",
    "        soup.b.decompose()\n",
    "\n",
    "        return ' '.join(soup.stripped_strings)\n",
    "\n",
    "# example usage\n",
    "clean_htm(\"BillData/BillSummaries/02132.htm\")"
   ]
  },
  {
   "cell_type": "code",
   "execution_count": null,
   "metadata": {},
   "outputs": [],
   "source": [
    "nltk.download('punkt')\n",
    "nltk.download('stopwords')"
   ]
  },
  {
   "cell_type": "code",
   "execution_count": 34,
   "metadata": {},
   "outputs": [
    {
     "name": "stderr",
     "output_type": "stream",
     "text": [
      "--2024-07-21 11:48:26--  https://huggingface.co/stanfordnlp/glove/resolve/main/glove.42B.300d.zip\n",
      "Resolving huggingface.co... 18.160.102.86, 18.160.102.96, 18.160.102.4, ...\n",
      "Connecting to huggingface.co|18.160.102.86|:443... connected.\n",
      "OpenSSL: error:140773E8:SSL routines:SSL23_GET_SERVER_HELLO:reason(1000)\n",
      "Unable to establish SSL connection.\n",
      "tar: Error opening archive: Failed to open 'glove.42B.300d.zip'\n"
     ]
    }
   ],
   "source": [
    "# get pretrained GloVe model - Common Crawl (42B tokens, 1.9M vocab, uncased, 300d vectors, 1.75 GB download)\n",
    "!wget https://huggingface.co/stanfordnlp/glove/resolve/main/glove.42B.300d.zip\n",
    "!tar -xf glove.42B.300d.zip"
   ]
  },
  {
   "cell_type": "code",
   "execution_count": 138,
   "metadata": {},
   "outputs": [
    {
     "data": {
      "text/plain": [
       "['closing',\n",
       " 'loopholes',\n",
       " 'ending',\n",
       " 'arbitrary',\n",
       " 'needless',\n",
       " 'evasion',\n",
       " 'regulations',\n",
       " 'act',\n",
       " '2021']"
      ]
     },
     "execution_count": 138,
     "metadata": {},
     "output_type": "execute_result"
    }
   ],
   "source": [
    "def get_clean_bill_summary(file_path):\n",
    "    with open(file_path, 'r', encoding='utf-8') as file:\n",
    "        soup = BeautifulSoup(file)\n",
    "\n",
    "        # remove the title\n",
    "        soup.b.decompose()\n",
    "\n",
    "        # convert to string and lowercase\n",
    "        summary = \" \".join(soup.stripped_strings)\n",
    "        summary = summary.lower()\n",
    "\n",
    "        # drop all punctuation\n",
    "        summary = re.sub(r\"[^\\w\\s]\", \"\", summary)\n",
    "\n",
    "    return summary\n",
    "\n",
    "def get_clean_bill_title(file_path):\n",
    "    with open(file_path, \"r\", encoding=\"utf-8\") as file:\n",
    "        data = json.load(file)\n",
    "\n",
    "        title = data[\"title\"].lower()\n",
    "        title = re.sub(r\"[^\\w\\s]\", \"\", title)\n",
    "\n",
    "    return title\n",
    "\n",
    "def tokenize_text(text):\n",
    "    # tokenize text\n",
    "    tokens = nltk.word_tokenize(text.lower())\n",
    "\n",
    "    # get rid of stop words\n",
    "    stop_words = set(stopwords.words('english'))\n",
    "    tokens = [word for word in tokens if word not in stop_words]\n",
    "\n",
    "    return tokens\n",
    "\n",
    "# example usage\n",
    "tokenize_text(get_clean_bill_title(\"BillData/JSONFiles/02132.json\"))\n"
   ]
  },
  {
   "cell_type": "code",
   "execution_count": 133,
   "metadata": {},
   "outputs": [
    {
     "name": "stdout",
     "output_type": "stream",
     "text": [
      "{'actions': {'count': 51, 'url': 'https://api.congress.gov/v3/bill/117/hr/7776/actions?format=json'}, 'amendments': {'count': 21, 'url': 'https://api.congress.gov/v3/bill/117/hr/7776/amendments?format=json'}, 'cboCostEstimates': [{'description': 'As Posted on the Website of the House Committee on Rules on June 6, 2022\\n', 'pubDate': '2022-06-08T20:37:00Z', 'title': 'CBO’s Estimate of the Statutory Pay-As-You-Go Effects of H.R. 7776, the Water Resources Development Act of 2022', 'url': 'https://www.cbo.gov/publication/58193'}], 'committeeReports': [{'citation': 'H. Rept. 117-347', 'url': 'https://api.congress.gov/v3/committee-report/117/HRPT/347?format=json'}], 'committees': {'count': 1, 'url': 'https://api.congress.gov/v3/bill/117/hr/7776/committees?format=json'}, 'congress': 117, 'constitutionalAuthorityStatementText': '<pre>\\n[Congressional Record Volume 168, Number 83 (Monday, May 16, 2022)]\\n[House]\\nFrom the Congressional Record Online through the Government Publishing Office [<a href=\"https://www.gpo.gov\">www.gpo.gov</a>]\\nBy Mr. DeFAZIO:\\nH.R. 7776.\\nCongress has the power to enact this legislation pursuant\\nto the following:\\nArticle I, Section 8, Clause 1, Clause 3, and Clause 18 of\\nthe Constitution.\\n[Page H5009]\\n</pre>', 'cosponsors': {'count': 3, 'countIncludingWithdrawnCosponsors': 3, 'url': 'https://api.congress.gov/v3/bill/117/hr/7776/cosponsors?format=json'}, 'introducedDate': '2022-05-16', 'latestAction': {'actionDate': '2022-12-23', 'text': 'Became Public Law No: 117-263.'}, 'laws': [{'number': '117-263', 'type': 'Public Law'}], 'number': '7776', 'originChamber': 'House', 'originChamberCode': 'H', 'policyArea': {'name': 'Armed Forces and National Security'}, 'relatedBills': {'count': 69, 'url': 'https://api.congress.gov/v3/bill/117/hr/7776/relatedbills?format=json'}, 'sponsors': [{'bioguideId': 'D000191', 'district': 4, 'firstName': 'PETER', 'fullName': 'Rep. DeFazio, Peter A. [D-OR-4]', 'isByRequest': 'N', 'lastName': 'DEFAZIO', 'middleName': 'A.', 'party': 'D', 'state': 'OR', 'url': 'https://api.congress.gov/v3/member/D000191?format=json'}], 'subjects': {'count': 81, 'url': 'https://api.congress.gov/v3/bill/117/hr/7776/subjects?format=json'}, 'summaries': {'count': 7, 'url': 'https://api.congress.gov/v3/bill/117/hr/7776/summaries?format=json'}, 'textVersions': {'count': 8, 'url': 'https://api.congress.gov/v3/bill/117/hr/7776/text?format=json'}, 'title': 'James M. Inhofe National Defense Authorization Act for Fiscal Year 2023', 'titles': {'count': 47, 'url': 'https://api.congress.gov/v3/bill/117/hr/7776/titles?format=json'}, 'type': 'HR', 'updateDate': '2024-07-02T21:28:33Z', 'updateDateIncludingText': '2024-07-02T21:28:33Z'}\n"
     ]
    }
   ],
   "source": [
    "with open(\"BillData/JSONFiles/07776.json\", \"r\", encoding=\"utf-8\") as file:\n",
    "    data = json.load(file)\n",
    "    print(data)"
   ]
  },
  {
   "cell_type": "code",
   "execution_count": 140,
   "metadata": {},
   "outputs": [
    {
     "data": {
      "text/plain": [
       "'Became Public Law No: 117-153.'"
      ]
     },
     "execution_count": 140,
     "metadata": {},
     "output_type": "execute_result"
    }
   ],
   "source": [
    "\n",
    "\n",
    "def get_sponsor_party(file_path):\n",
    "    with open(file_path, \"r\", encoding=\"utf-8\") as file:\n",
    "        data = json.load(file)\n",
    "        party = data[\"sponsors\"][0][\"party\"]\n",
    "\n",
    "    return party\n",
    "\n",
    "def get_sponsor_state(file_path):\n",
    "    with open(file_path, \"r\", encoding=\"utf-8\") as file:\n",
    "        data = json.load(file)\n",
    "        state = data[\"sponsors\"][0][\"state\"]\n",
    "\n",
    "    return state\n",
    "\n",
    "def get_sponsor_district(file_path):\n",
    "    with open(file_path, \"r\", encoding=\"utf-8\") as file:\n",
    "        data = json.load(file)\n",
    "        district = data[\"sponsors\"][0][\"district\"]\n",
    "\n",
    "    return district\n",
    "\n",
    "def get_policy_area(file_path):\n",
    "    with open(file_path, \"r\", encoding=\"utf-8\") as file:\n",
    "        data = json.load(file)\n",
    "        policy_area = data[\"policyArea\"][\"name\"]\n",
    "\n",
    "    return policy_area\n",
    "\n",
    "def get_subjects_count(file_path):\n",
    "    with open(file_path, \"r\", encoding=\"utf-8\") as file:\n",
    "        data = json.load(file)\n",
    "        count = data[\"subjects\"][\"count\"]\n",
    "\n",
    "    return count\n",
    "\n",
    "def get_introduction_date(file_path):\n",
    "    with open(file_path, \"r\", encoding=\"utf-8\") as file:\n",
    "        data = json.load(file)\n",
    "        date = data[\"introducedDate\"]\n",
    "\n",
    "    return date \n",
    "\n",
    "def get_latest_action(file_path):\n",
    "    with open(file_path, \"r\", encoding=\"utf-8\") as file:\n",
    "        data = json.load(file)\n",
    "        latest_action = data[\"latestAction\"][\"text\"]\n",
    "\n",
    "    return latest_action \n",
    "\n",
    "\n",
    "get_latest_action(\"BillData/JSONFiles/02324.json\")"
   ]
  },
  {
   "cell_type": "code",
   "execution_count": 115,
   "metadata": {},
   "outputs": [],
   "source": [
    "features = [\"bill_id\", \n",
    "            \"title\", \n",
    "            \"summary\", \n",
    "            \"sponsor_party\", \n",
    "            \"sponsor_state\",\n",
    "            \"sponsor_district\",\n",
    "            \"policy_area\", \n",
    "            \"subjects_count\", \n",
    "            \"introduced_date\",\n",
    "            \"latest_action\"]\n",
    "\n",
    "dataset = pd.DataFrame(columns = features)\n",
    "\n",
    "#row = pd.DataFrame([[i for i in range(10)]], columns = features)\n",
    "#for i in range(10):\n",
    "#    dataset = pd.concat([dataset, row], ignore_index=True)\n",
    "#dataset"
   ]
  },
  {
   "cell_type": "code",
   "execution_count": 141,
   "metadata": {},
   "outputs": [
    {
     "ename": "SyntaxError",
     "evalue": "invalid syntax (2218664886.py, line 7)",
     "output_type": "error",
     "traceback": [
      "\u001b[1;36m  Cell \u001b[1;32mIn[141], line 7\u001b[1;36m\u001b[0m\n\u001b[1;33m    with open(, \"r\", encoding=\"utf-8\") as file:\u001b[0m\n\u001b[1;37m              ^\u001b[0m\n\u001b[1;31mSyntaxError\u001b[0m\u001b[1;31m:\u001b[0m invalid syntax\n"
     ]
    }
   ],
   "source": [
    "# iterate through htm files in the BillSummaries directory\n",
    "for file in Path(\"BillData/BillSummaries\").glob('*.htm'):\n",
    "    bill_number = str(file).split(\"\\\\\")[-1][:-4]\n",
    "    \n",
    "    summary = get_clean_bill_summary(file)\n",
    "\n",
    "    with open(f\"BillData/JSONFiles/{bill_number}.json\", \"r\", encoding=\"utf-8\") as file:\n",
    "        \n",
    "    \n",
    "    # add the row to the dataset\n",
    "    new_row = pd.DataFrame([[int(bill_number,\n",
    "                                 title,\n",
    "                                 summary,\n",
    "                                 sponsor_party,\n",
    "                                 sponsor_state,\n",
    "                                 sponsor_district,\n",
    "                                 policy_area,\n",
    "                                 subjects_count,\n",
    "                                 introduced_date,\n",
    "                                 latest_action)]], columns = features)\n",
    "    \n",
    "    dataset = pd.concat([dataset, new_row])\n",
    "    break"
   ]
  },
  {
   "cell_type": "code",
   "execution_count": null,
   "metadata": {},
   "outputs": [],
   "source": []
  }
 ],
 "metadata": {
  "kernelspec": {
   "display_name": "Python 3",
   "language": "python",
   "name": "python3"
  },
  "language_info": {
   "codemirror_mode": {
    "name": "ipython",
    "version": 3
   },
   "file_extension": ".py",
   "mimetype": "text/x-python",
   "name": "python",
   "nbconvert_exporter": "python",
   "pygments_lexer": "ipython3",
   "version": "3.11.9"
  }
 },
 "nbformat": 4,
 "nbformat_minor": 2
}
